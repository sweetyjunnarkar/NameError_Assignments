{
 "cells": [
  {
   "cell_type": "markdown",
   "metadata": {},
   "source": [
    "# Write a Python program to calculate area and perimeter of square,rectangle,Rhombus,parallelogram.(Create Two different funtions one for Area and one for Perimeter."
   ]
  },
  {
   "cell_type": "code",
   "execution_count": 22,
   "metadata": {},
   "outputs": [
    {
     "name": "stdout",
     "output_type": "stream",
     "text": [
      "Operations to be perform: \n",
      "1.area_of_square\n",
      "2.area of rectangle\n",
      "3.area_of_rhombus\n",
      "4.area_of_parellelogram\n",
      "5.perimeter_of_square\n",
      "6.perimeter_of_rectangle\n",
      "7.perimeter_of_rhombus\n",
      "8.perimeter_of_parellelogram\n",
      "Enter the choice: 1\n",
      "Enter the length of side: 5\n",
      "area_of_square=   5.0 X 5.0 = 25.0\n"
     ]
    }
   ],
   "source": [
    "\n",
    "def area_of_square(s):\n",
    "    return s**2\n",
    "def area_of_rectangle(l,w):\n",
    "    return l*w\n",
    "def area_of_rhombus(B,H):\n",
    "    return B*H\n",
    "def area_of_parallelogram(b1,h1):\n",
    "    return b1*h1\n",
    "def perimeter_of_square(s):\n",
    "    return 4*s\n",
    "def perimeter_of_rectangle(l,w):\n",
    "    return 2*(l+w)\n",
    "def perimeter_of_rhombus(a):\n",
    "    return 4*a\n",
    "def perimeter_of_parellelogram(b1,a1):\n",
    "    return 2*(b1+a1)\n",
    "\n",
    "print(\"Operations to be perform: \")\n",
    "print(\"1.area_of_square\")\n",
    "print(\"2.area of rectangle\")\n",
    "print(\"3.area_of_rhombus\")\n",
    "print(\"4.area_of_parellelogram\")\n",
    "print(\"5.perimeter_of_square\")\n",
    "print(\"6.perimeter_of_rectangle\")\n",
    "print(\"7.perimeter_of_rhombus\")\n",
    "print(\"8.perimeter_of_parellelogram\")\n",
    "\n",
    "choice=input(\"Enter the choice: \")\n",
    "\n",
    "if choice==\"1\":\n",
    "    s=float(input(\"Enter the length of side: \"))\n",
    "    print(\"area_of_square=  \",s,\"X\", s, \"=\",area_of_square(s))\n",
    "elif choice==\"2\":\n",
    "    l=float(input(\"Enter length of rectangle: \"))\n",
    "    w=float(input(\"Enter width of rectangle: \"))\n",
    "    print(\"area_of_rectangle= \",l,\"x\",w,\"=\",area_of_rectangle(l,w))\n",
    "elif choice==\"3\":\n",
    "    B=float(input(\"Enter base of rhombus: \"))\n",
    "    H=float(input(\"Enter height of rhombus: \"))\n",
    "    print(\"area_of_rhombus= \",B,\"X\",H,\"=\",area_of_rhombus(B,H))\n",
    "elif choice==\"4\":\n",
    "    b1=float(input(\"Enter base of parallelogram: \"))\n",
    "    h1=float(input(\"Enter height of parallelogram: \"))\n",
    "    print(\"area_of_parallelogram= \" ,b1,\"X\",h1,\"=\",area_of_parallelogram(b1,h1))\n",
    "elif choice==\"5\":\n",
    "    s=float(input(\"Enter side of square: \"))\n",
    "    print(\"perimeter_of_square= \" ,4,\"x\",s,\"=\",perimeter_of_square(s))\n",
    "elif choice==\"6\":\n",
    "    l=float(input(\"Enter length of rectangle: \"))\n",
    "    w=float(input(\"Enter width of rectangle: \"))\n",
    "    print(\"perimeter_of_rectangle= \" ,2,\"X\",(l,\"+\",w),perimeter_of_rectangle(l,w))\n",
    "elif choice==\"7\":\n",
    "    a=float(input(\"Enter side of rhombus: \"))\n",
    "    print(\"Perimeter of rhombus= \",4,\"X\",a,\"=\",perimeter_of_rhombus(a))\n",
    "elif choice==\"8\":\n",
    "    b1=float(input(\"Enter base side of parellelogram: \"))\n",
    "    a1=float(input(\"Enter adjecent side of parellelogram: \"))\n",
    "    print( \"perimeter_of_parellelogram\",2,\"X\",(b1,\"+\",a1),\"=\",perimeter_of_parellelogram(b1,a1))\n",
    "else:\n",
    "    (\"Please select valid input\")\n",
    "    \n",
    "    \n",
    "    \n",
    "    \n",
    "    \n",
    "    "
   ]
  },
  {
   "cell_type": "code",
   "execution_count": null,
   "metadata": {},
   "outputs": [],
   "source": []
  }
 ],
 "metadata": {
  "kernelspec": {
   "display_name": "Python 3",
   "language": "python",
   "name": "python3"
  },
  "language_info": {
   "codemirror_mode": {
    "name": "ipython",
    "version": 3
   },
   "file_extension": ".py",
   "mimetype": "text/x-python",
   "name": "python",
   "nbconvert_exporter": "python",
   "pygments_lexer": "ipython3",
   "version": "3.8.3"
  }
 },
 "nbformat": 4,
 "nbformat_minor": 4
}
