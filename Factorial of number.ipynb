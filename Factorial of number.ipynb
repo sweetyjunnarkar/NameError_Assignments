{
 "cells": [
  {
   "cell_type": "code",
   "execution_count": 1,
   "metadata": {},
   "outputs": [
    {
     "name": "stdout",
     "output_type": "stream",
     "text": [
      "Enter number: 4\n",
      "factorial of number= 24\n"
     ]
    }
   ],
   "source": [
    "f=int(input(\"Enter number: \"))\n",
    "def factorial(f):\n",
    "    fact=1\n",
    "    for i in range(1,f+1):\n",
    "        fact=fact*i\n",
    "    return fact\n",
    "        \n",
    "factorial_of=factorial(f)\n",
    "print(\"factorial of number=\",factorial_of)"
   ]
  },
  {
   "cell_type": "code",
   "execution_count": null,
   "metadata": {},
   "outputs": [],
   "source": []
  }
 ],
 "metadata": {
  "kernelspec": {
   "display_name": "Python 3",
   "language": "python",
   "name": "python3"
  },
  "language_info": {
   "codemirror_mode": {
    "name": "ipython",
    "version": 3
   },
   "file_extension": ".py",
   "mimetype": "text/x-python",
   "name": "python",
   "nbconvert_exporter": "python",
   "pygments_lexer": "ipython3",
   "version": "3.8.3"
  }
 },
 "nbformat": 4,
 "nbformat_minor": 4
}
