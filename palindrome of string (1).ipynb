{
 "cells": [
  {
   "cell_type": "code",
   "execution_count": 6,
   "metadata": {},
   "outputs": [
    {
     "name": "stdout",
     "output_type": "stream",
     "text": [
      "Enter a string: abcba\n",
      "this is palindrome\n"
     ]
    }
   ],
   "source": [
    "#input function to get user defined string\n",
    "p=str(input(\"Enter a string: \"))\n",
    "#palindrome means the string is same in reverse also means p==p(reverse) so the reverse is p[::-1]\n",
    "#if condition will give us required result.\n",
    "if p==p[::-1]:\n",
    "    print(\"this is palindrome\")\n",
    "else:\n",
    "    print(\"this is not\")"
   ]
  },
  {
   "cell_type": "code",
   "execution_count": null,
   "metadata": {},
   "outputs": [],
   "source": []
  }
 ],
 "metadata": {
  "kernelspec": {
   "display_name": "Python 3",
   "language": "python",
   "name": "python3"
  },
  "language_info": {
   "codemirror_mode": {
    "name": "ipython",
    "version": 3
   },
   "file_extension": ".py",
   "mimetype": "text/x-python",
   "name": "python",
   "nbconvert_exporter": "python",
   "pygments_lexer": "ipython3",
   "version": "3.8.3"
  }
 },
 "nbformat": 4,
 "nbformat_minor": 4
}
