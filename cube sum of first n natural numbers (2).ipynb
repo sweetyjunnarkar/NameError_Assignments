{
 "cells": [
  {
   "cell_type": "markdown",
   "metadata": {},
   "source": [
    "# Develop a Python Program which prints  cube sum of first n natural numbers (N is user defined)"
   ]
  },
  {
   "cell_type": "code",
   "execution_count": 2,
   "metadata": {},
   "outputs": [
    {
     "name": "stdout",
     "output_type": "stream",
     "text": [
      "Enter natural number: 8\n",
      "cube sum of first n natural numbers: 1296\n"
     ]
    }
   ],
   "source": [
    "#input function will make it user defined\n",
    "n=int(input(\"Enter natural number: \"))\n",
    "#to get the cube sum of function is defined here.\n",
    "def sum_natural_numbers(n):\n",
    "    sum=0\n",
    "#for cube sum of first natural numbers,for loop with the range function is used\n",
    "    for i in range(1,n+1):\n",
    "#the formula for cube sum is given below\n",
    "        sum += i**3\n",
    "#in return we will get the required result   \n",
    "    return sum \n",
    "\n",
    "#the function is called to print the result\n",
    "sum_cube=sum_natural_numbers(n)   \n",
    "\n",
    "print(\"cube sum of first n natural numbers:\",sum_cube)\n",
    "\n",
    "\n",
    "     \n",
    "    "
   ]
  },
  {
   "cell_type": "code",
   "execution_count": null,
   "metadata": {},
   "outputs": [],
   "source": []
  }
 ],
 "metadata": {
  "kernelspec": {
   "display_name": "Python 3",
   "language": "python",
   "name": "python3"
  },
  "language_info": {
   "codemirror_mode": {
    "name": "ipython",
    "version": 3
   },
   "file_extension": ".py",
   "mimetype": "text/x-python",
   "name": "python",
   "nbconvert_exporter": "python",
   "pygments_lexer": "ipython3",
   "version": "3.8.3"
  }
 },
 "nbformat": 4,
 "nbformat_minor": 4
}
