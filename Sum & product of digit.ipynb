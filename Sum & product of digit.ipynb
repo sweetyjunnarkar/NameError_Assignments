{
 "cells": [
  {
   "attachments": {},
   "cell_type": "markdown",
   "metadata": {},
   "source": [
    "# Write a Python program to calculate sum and product of digits of a number.(Create Two different funtions one for sum and one product"
   ]
  },
  {
   "cell_type": "code",
   "execution_count": 31,
   "metadata": {},
   "outputs": [
    {
     "name": "stdout",
     "output_type": "stream",
     "text": [
      "enter a number: 1212\n",
      "sum of digits is:   6\n",
      "product of digits is:   4\n"
     ]
    }
   ],
   "source": [
    "#to enter the number of which we want sum and product of digit\n",
    "i=int(input(\"enter a number: \"))\n",
    "\n",
    "#for sum I have created addition function:\n",
    "def addition(i):\n",
    "#here I have created code for 4 digit number.So as per the positional values of each digit the logic is created\n",
    "#like if I want sum and product of digits of number 5110:\n",
    "    x=i//1000                         #x==   5110//1000                   = 5\n",
    "    x1=(i-x*1000)//100                #x1== (5110-5*1000)//100            = 1\n",
    "    x2=(i-x*1000-x1*100)//10          #x2== (5110-5*1000-1*100)//10       = 1\n",
    "    x3=(i-x*1000-x1*100-x2*10)        #x3== (5110-5*1000-1*100-1*10)      = 0\n",
    "    i=(x+x1+x2+x3)                    #i == (x+x1+x2+x3)\n",
    "    return i\n",
    "def product(i):\n",
    "    x=i//1000\n",
    "    x1=(i-x*1000)//100\n",
    "    x2=(i-x*1000-x1*100)//10\n",
    "    x3=(i-x*1000-x1*100-x2*10)\n",
    "    \n",
    "    i=(x*x1*x2*x3)                     #i==(x*x1*x2*x3)\n",
    "    return i\n",
    "    \n",
    "\n",
    "\n",
    "sum_of_digit=addition(i)\n",
    "print( \"sum of digits is:  \" , sum_of_digit)        #Here we get the final result for the sum of the digit\n",
    "\n",
    "product_of_dig=product(i)\n",
    "print( \"product of digits is:  \", product_of_dig)   #Here we get the final result for the product of the digit\n",
    "\n",
    "\n",
    "\n",
    "    "
   ]
  },
  {
   "cell_type": "code",
   "execution_count": null,
   "metadata": {},
   "outputs": [],
   "source": []
  }
 ],
 "metadata": {
  "kernelspec": {
   "display_name": "Python 3",
   "language": "python",
   "name": "python3"
  },
  "language_info": {
   "codemirror_mode": {
    "name": "ipython",
    "version": 3
   },
   "file_extension": ".py",
   "mimetype": "text/x-python",
   "name": "python",
   "nbconvert_exporter": "python",
   "pygments_lexer": "ipython3",
   "version": "3.8.3"
  }
 },
 "nbformat": 4,
 "nbformat_minor": 4
}
